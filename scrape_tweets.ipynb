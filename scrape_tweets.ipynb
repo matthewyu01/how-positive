{
 "cells": [
  {
   "cell_type": "code",
   "execution_count": 1,
   "metadata": {},
   "outputs": [],
   "source": [
    "import tweepy\n",
    "import pandas as pd"
   ]
  },
  {
   "cell_type": "code",
   "execution_count": 10,
   "metadata": {},
   "outputs": [],
   "source": [
    "from dotenv import dotenv_values\n",
    "\n",
    "env_values = dotenv_values(\".env\") \n",
    "\n",
    "# Twitter API credentials   \n",
    "API_KEY = env_values[\"API_KEY\"]\n",
    "API_SECRET = env_values[\"API_SECRET\"]\n",
    "ACCESS_TOKEN = env_values[\"ACCESS_TOKEN\"]\n",
    "ACCESS_SECRET = env_values[\"ACCESS_SECRET\"]\n",
    "\n",
    "# authorize twitter, initialize tweepy\n",
    "auth = tweepy.OAuthHandler(API_KEY, API_SECRET)\n",
    "auth.set_access_token(ACCESS_TOKEN, ACCESS_SECRET)\n",
    "api = tweepy.API(auth,wait_on_rate_limit=True)"
   ]
  },
  {
   "cell_type": "code",
   "execution_count": 3,
   "metadata": {
    "colab": {},
    "colab_type": "code",
    "id": "fguMqU2ifc5h"
   },
   "outputs": [],
   "source": [
    "tweets = []\n",
    "\n",
    "def username_tweets_to_csv(username,count):\n",
    "    \"\"\"Scrape tweets from a Twitter user\"\"\"\n",
    "    try:      \n",
    "        # Creation of query method using parameters\n",
    "        tweets = tweepy.Cursor(api.user_timeline,id=username).items(count)\n",
    "\n",
    "        # Pulling information from tweets iterable object\n",
    "        tweets_list = [[tweet.created_at, tweet.id, tweet.text] for tweet in tweets]\n",
    "\n",
    "        # Creation of dataframe from tweets list\n",
    "        # Add or remove columns as you remove tweet information\n",
    "        tweets_df = pd.DataFrame(tweets_list,columns=['Datetime', 'Tweet Id', 'Text'])\n",
    "\n",
    "        # Converting dataframe to CSV \n",
    "        tweets_df.to_csv('{}-tweets.csv'.format(username), sep=',', index = False)\n",
    "\n",
    "    except BaseException as e:\n",
    "          print('failed on_status,',str(e))\n",
    "          time.sleep(3)"
   ]
  },
  {
   "cell_type": "code",
   "execution_count": 4,
   "metadata": {},
   "outputs": [],
   "source": [
    "# Input username to scrape tweets and name csv file\n",
    "# Max recent tweets pulls x amount of most recent tweets from that user\n",
    "username = 'jack'\n",
    "count = 150\n",
    "\n",
    "# Calling function to turn username's past X amount of tweets into a CSV file\n",
    "username_tweets_to_csv(username, count)"
   ]
  },
  {
   "cell_type": "markdown",
   "metadata": {
    "colab_type": "text",
    "id": "jFe9EonmM6u9"
   },
   "source": [
    "## Query by Text Search\n",
    "Function is focused on completing the query then providing a CSV file of that query using pandas"
   ]
  },
  {
   "cell_type": "code",
   "execution_count": 5,
   "metadata": {
    "colab": {},
    "colab_type": "code",
    "id": "1hOeCFq6M83k"
   },
   "outputs": [],
   "source": [
    "tweets = []\n",
    "\n",
    "def text_query_to_csv(text_query,count):\n",
    "    \"\"\"Scrape tweets from Twitter's API using a text query\"\"\"\n",
    "    try:\n",
    "        # Creation of query method using parameters\n",
    "        tweets = tweepy.Cursor(api.search,q=text_query).items(count)\n",
    "\n",
    "\n",
    "        all_tweet_text = set()\n",
    "        tweets_list = []\n",
    "        \n",
    "        #tweets_list = [[tweet.created_at, tweet.id, tweet.text.encode(\"utf-8\")] for tweet in tweets]\n",
    "        for tweet in tweets:\n",
    "            encoded_text = tweet.text\n",
    "            if encoded_text not in all_tweet_text: #check for duplicates\n",
    "                all_tweet_text.add(encoded_text)\n",
    "                tweets_list.append([tweet.created_at, tweet.id, encoded_text])\n",
    "\n",
    "        # Creation of dataframe from tweets list\n",
    "        # Add or remove columns as you remove tweet information\n",
    "        tweets_df = pd.DataFrame(tweets_list,columns=['Datetime', 'Tweet Id', 'Text'])\n",
    "\n",
    "        # Converting dataframe to CSV \n",
    "        tweets_df.to_csv('data/{}-tweets.csv'.format(text_query), sep=',', index = False)\n",
    "\n",
    "    except BaseException as e:\n",
    "        print('failed on status,',str(e))\n",
    "        time.sleep(5)"
   ]
  },
  {
   "cell_type": "code",
   "execution_count": 6,
   "metadata": {},
   "outputs": [],
   "source": [
    "\n",
    "search_texts = ['Reddit', 'Twitter', 'Soccer', 'Basketball', 'Football', 'USA Election 2020', 'Americans', 'Music']\n",
    "\n",
    "count = 150\n",
    "\n",
    "for search_text in search_texts:\n",
    "    text_query_to_csv(search_text, count)"
   ]
  },
  {
   "cell_type": "code",
   "execution_count": 9,
   "metadata": {},
   "outputs": [
    {
     "data": {
      "text/html": [
       "<div>\n",
       "<style scoped>\n",
       "    .dataframe tbody tr th:only-of-type {\n",
       "        vertical-align: middle;\n",
       "    }\n",
       "\n",
       "    .dataframe tbody tr th {\n",
       "        vertical-align: top;\n",
       "    }\n",
       "\n",
       "    .dataframe thead th {\n",
       "        text-align: right;\n",
       "    }\n",
       "</style>\n",
       "<table border=\"1\" class=\"dataframe\">\n",
       "  <thead>\n",
       "    <tr style=\"text-align: right;\">\n",
       "      <th></th>\n",
       "      <th>Datetime</th>\n",
       "      <th>Tweet Id</th>\n",
       "      <th>Text</th>\n",
       "    </tr>\n",
       "  </thead>\n",
       "  <tbody>\n",
       "    <tr>\n",
       "      <th>0</th>\n",
       "      <td>2021-11-05 07:33:25</td>\n",
       "      <td>1456525042104213509</td>\n",
       "      <td>RT @Pokemon_cojp: 『ポケモン ブリリアントダイヤモンド・シャイニングパール...</td>\n",
       "    </tr>\n",
       "    <tr>\n",
       "      <th>1</th>\n",
       "      <td>2021-11-05 07:33:23</td>\n",
       "      <td>1456525032461635586</td>\n",
       "      <td>RT @SportswaveAndre: PHOTO ~ 4 November 2021 p...</td>\n",
       "    </tr>\n",
       "    <tr>\n",
       "      <th>2</th>\n",
       "      <td>2021-11-05 07:33:21</td>\n",
       "      <td>1456525025264214022</td>\n",
       "      <td>@bellasoccer_ Huge W KCP Bella soccer</td>\n",
       "    </tr>\n",
       "    <tr>\n",
       "      <th>3</th>\n",
       "      <td>2021-11-05 07:33:14</td>\n",
       "      <td>1456524995719467011</td>\n",
       "      <td>RT @SportswaveAndre: PHOTO ~ #Soccer ~ Wins fo...</td>\n",
       "    </tr>\n",
       "    <tr>\n",
       "      <th>4</th>\n",
       "      <td>2021-11-05 07:33:11</td>\n",
       "      <td>1456524981546934274</td>\n",
       "      <td>RT @SportswaveAndre: PHOTO ~ #Soccer ~ Draws f...</td>\n",
       "    </tr>\n",
       "  </tbody>\n",
       "</table>\n",
       "</div>"
      ],
      "text/plain": [
       "              Datetime             Tweet Id  \\\n",
       "0  2021-11-05 07:33:25  1456525042104213509   \n",
       "1  2021-11-05 07:33:23  1456525032461635586   \n",
       "2  2021-11-05 07:33:21  1456525025264214022   \n",
       "3  2021-11-05 07:33:14  1456524995719467011   \n",
       "4  2021-11-05 07:33:11  1456524981546934274   \n",
       "\n",
       "                                                Text  \n",
       "0  RT @Pokemon_cojp: 『ポケモン ブリリアントダイヤモンド・シャイニングパール...  \n",
       "1  RT @SportswaveAndre: PHOTO ~ 4 November 2021 p...  \n",
       "2              @bellasoccer_ Huge W KCP Bella soccer  \n",
       "3  RT @SportswaveAndre: PHOTO ~ #Soccer ~ Wins fo...  \n",
       "4  RT @SportswaveAndre: PHOTO ~ #Soccer ~ Draws f...  "
      ]
     },
     "execution_count": 9,
     "metadata": {},
     "output_type": "execute_result"
    }
   ],
   "source": [
    "df = pd.read_csv('data/Soccer-tweets.csv', encoding='utf8')\n",
    "df.head()"
   ]
  }
 ],
 "metadata": {
  "colab": {
   "collapsed_sections": [],
   "name": "Tweepy Twitter Scraper",
   "provenance": []
  },
  "interpreter": {
   "hash": "f89e368b908d1a3af1a9cb902a14ad307df42a403bd95d8c2513650abfe81cff"
  },
  "kernelspec": {
   "display_name": "Python 3.9.1 64-bit",
   "name": "python3"
  },
  "language_info": {
   "codemirror_mode": {
    "name": "ipython",
    "version": 3
   },
   "file_extension": ".py",
   "mimetype": "text/x-python",
   "name": "python",
   "nbconvert_exporter": "python",
   "pygments_lexer": "ipython3",
   "version": "3.9.1"
  },
  "metadata": {
   "interpreter": {
    "hash": "f89e368b908d1a3af1a9cb902a14ad307df42a403bd95d8c2513650abfe81cff"
   }
  }
 },
 "nbformat": 4,
 "nbformat_minor": 1
}
