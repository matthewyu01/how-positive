{
 "cells": [
  {
   "cell_type": "code",
   "execution_count": 1,
   "metadata": {},
   "outputs": [],
   "source": [
    "import pandas as pd"
   ]
  },
  {
   "cell_type": "markdown",
   "metadata": {},
   "source": [
    "## Sentiment Analysis using SpacyTextBlob"
   ]
  },
  {
   "cell_type": "code",
   "execution_count": 2,
   "metadata": {},
   "outputs": [
    {
     "data": {
      "text/plain": [
       "<spacytextblob.spacytextblob.SpacyTextBlob at 0x18d72af83d0>"
      ]
     },
     "execution_count": 2,
     "metadata": {},
     "output_type": "execute_result"
    }
   ],
   "source": [
    "import spacy\n",
    "from spacytextblob.spacytextblob import SpacyTextBlob\n",
    "nlp = spacy.load('en_core_web_sm') #py -m spacy download en\n",
    "nlp.add_pipe('spacytextblob')"
   ]
  },
  {
   "cell_type": "code",
   "execution_count": 3,
   "metadata": {},
   "outputs": [
    {
     "name": "stdout",
     "output_type": "stream",
     "text": [
      "0.5208333333333334\n",
      "0.75\n",
      "[(['love'], 0.5, 0.6, None), (['much', '!', 'favorite', '!'], 0.625, 1.0, None), (['cool', '!'], 0.4375, 0.65, None)] \n",
      "\n",
      "-0.5166666666666667\n",
      "0.7000000000000001\n",
      "[(['hate'], -0.8, 0.9, None), (['much', '!'], 0.25, 0.2, None), (['worst', '!'], -1.0, 1.0, None)]\n"
     ]
    }
   ],
   "source": [
    "text = \"I love school so much! It's my favorite thing ever! I get to see all my friends and learn about cool things!\"\n",
    "doc = nlp(text)\n",
    "print(doc._.polarity)   \n",
    "print(doc._.subjectivity) \n",
    "print(doc._.assessments, '\\n')  \n",
    "\n",
    "text = \"I hate school so much! It's the worst thing ever!\"\n",
    "doc = nlp(text)\n",
    "print(doc._.polarity)   \n",
    "print(doc._.subjectivity) \n",
    "print(doc._.assessments)  "
   ]
  },
  {
   "cell_type": "code",
   "execution_count": 4,
   "metadata": {},
   "outputs": [],
   "source": [
    "\n",
    "# Polarity is a float within the range [-1.0, 1.0].  Negative polarity indicates negative sentiment, positive polarity indicates positive sentiment. \n",
    "# Higher magnitude indicates more extreme sentiment.\n",
    "\n",
    "# Subjectivity is a float within the range [0.0, 1.0] where 0.0 is very objective and 1.0 is very subjective, \n",
    "# Assessments is a list of polarity and subjectivity scores for the assessed tokens.\n",
    "\n",
    "def get_polarity_and_subjectivity(text):\n",
    "    doc = nlp(text)\n",
    "    return (doc._.polarity, doc._.subjectivity,doc._.assessments)"
   ]
  },
  {
   "cell_type": "markdown",
   "metadata": {},
   "source": [
    "## Sentiment Analysis using [Amazon Comprehend](https://aws.amazon.com/comprehend/)\n",
    "### [Install boto3 and configure AWS](https://boto3.amazonaws.com/v1/documentation/api/latest/guide/quickstart.html#install-boto3)\n",
    "### [Authenticating AWS Credentials](https://docs.aws.amazon.com/IAM/latest/UserGuide/id_users_create.html#id_users_create_console)"
   ]
  },
  {
   "cell_type": "code",
   "execution_count": 5,
   "metadata": {},
   "outputs": [
    {
     "name": "stdout",
     "output_type": "stream",
     "text": [
      "Calling DetectSentiment\n",
      "NEUTRAL\n",
      "{\n",
      "    \"Positive\": 0.03478698432445526,\n",
      "    \"Negative\": 0.30989840626716614,\n",
      "    \"Neutral\": 0.6552183032035828,\n",
      "    \"Mixed\": 9.628861880628392e-05\n",
      "}\n",
      "End of DetectSentiment\n",
      "\n"
     ]
    }
   ],
   "source": [
    "# !pip install boto3\n",
    "import boto3\n",
    "import json\n",
    "\n",
    "comprehend = boto3.client(service_name='comprehend', region_name='us-east-1')\n",
    "                \n",
    "text = \"It is raining today in Seattle\"\n",
    "\n",
    "print('Calling DetectSentiment')\n",
    "response = comprehend.detect_sentiment(Text=text, LanguageCode='en')\n",
    "print(response['Sentiment'])\n",
    "print(json.dumps(response['SentimentScore'],indent=4))\n",
    "\n",
    "print('End of DetectSentiment\\n')"
   ]
  },
  {
   "cell_type": "code",
   "execution_count": 6,
   "metadata": {},
   "outputs": [],
   "source": [
    "def get_aws_sentiment(tweet_text):\n",
    "    response = comprehend.detect_sentiment(Text=text, LanguageCode='en')\n",
    "    return(response['Sentiment'])"
   ]
  },
  {
   "cell_type": "code",
   "execution_count": 7,
   "metadata": {},
   "outputs": [
    {
     "data": {
      "text/plain": [
       "'NEUTRAL'"
      ]
     },
     "execution_count": 7,
     "metadata": {},
     "output_type": "execute_result"
    }
   ],
   "source": [
    "#note: maybe should clean text to be only English but need to test if AWS can handle other languages\n",
    "\n",
    "df_soccer = pd.read_csv('data/Soccer-tweets.csv', encoding='utf8')\n",
    "japanese_text = df_soccer[\"Text\"][0]\n",
    "get_aws_sentiment(japanese_text) "
   ]
  },
  {
   "cell_type": "markdown",
   "metadata": {},
   "source": [
    "### Read in data"
   ]
  },
  {
   "cell_type": "code",
   "execution_count": 8,
   "metadata": {},
   "outputs": [
    {
     "name": "stdout",
     "output_type": "stream",
     "text": [
      "RT @mosaitricks: #Biden election fraud\n",
      "11/2020 = 33 month\n",
      "USA 7/4 was in 33 cycle\n",
      "\n",
      "Republicans make gains\n",
      "11/2021 = 16/7 month\n",
      "USA in 16/7…\n",
      "@joncoopertweets I would feel better if USA government did something about the past and present spreading false con… https://t.co/ukBp4fEhuX\n",
      "A day to remember and to celebrate.\n",
      "2020 Election Results | USA TODAY https://t.co/iHMDxFzN6I via @usatoday\n",
      "If you're a patriot you support the laws of the USA. \n",
      "The Republicans violated law after law after law during the T… https://t.co/vzMnwkNwm9\n",
      "RT @RealPatriot56: Democrats cheated in New Jersey knowing they could and would get away with it, because everyone got away with stealing t…\n"
     ]
    }
   ],
   "source": [
    "df_election = pd.read_csv('data/USA Election 2020-tweets.csv')\n",
    "tweet_text = df_election[\"Text\"]\n",
    "for tweet in tweet_text[:5]: #print first 5 tweets\n",
    "    print(tweet)\n"
   ]
  },
  {
   "cell_type": "code",
   "execution_count": 17,
   "metadata": {},
   "outputs": [],
   "source": [
    "aws_sentiment = []\n",
    "spacy_sentiment = []\n",
    "for tweet in tweet_text[:5]:\n",
    "    aws_sentiment.append(get_aws_sentiment(tweet))\n",
    "    spacy_sentiment.append(get_polarity_and_subjectivity(tweet)[0])"
   ]
  },
  {
   "cell_type": "code",
   "execution_count": 20,
   "metadata": {},
   "outputs": [
    {
     "name": "stdout",
     "output_type": "stream",
     "text": [
      "NEGATIVE 0.0\n",
      "NEGATIVE -0.03750000000000002\n",
      "NEGATIVE 0.0\n",
      "NEGATIVE 0.0\n",
      "NEGATIVE 0.13636363636363635\n"
     ]
    }
   ],
   "source": [
    "for i,j in zip(aws_sentiment,spacy_sentiment):\n",
    "    print(i,j)"
   ]
  },
  {
   "cell_type": "code",
   "execution_count": 25,
   "metadata": {},
   "outputs": [
    {
     "data": {
      "text/html": [
       "<div>\n",
       "<style scoped>\n",
       "    .dataframe tbody tr th:only-of-type {\n",
       "        vertical-align: middle;\n",
       "    }\n",
       "\n",
       "    .dataframe tbody tr th {\n",
       "        vertical-align: top;\n",
       "    }\n",
       "\n",
       "    .dataframe thead th {\n",
       "        text-align: right;\n",
       "    }\n",
       "</style>\n",
       "<table border=\"1\" class=\"dataframe\">\n",
       "  <thead>\n",
       "    <tr style=\"text-align: right;\">\n",
       "      <th></th>\n",
       "      <th>Text</th>\n",
       "      <th>AWS Sentiment</th>\n",
       "      <th>Spacy Sentiment</th>\n",
       "    </tr>\n",
       "  </thead>\n",
       "  <tbody>\n",
       "    <tr>\n",
       "      <th>0</th>\n",
       "      <td>RT @mosaitricks: #Biden election fraud\\n11/202...</td>\n",
       "      <td>NEGATIVE</td>\n",
       "      <td>0.000000</td>\n",
       "    </tr>\n",
       "    <tr>\n",
       "      <th>1</th>\n",
       "      <td>@joncoopertweets I would feel better if USA go...</td>\n",
       "      <td>NEGATIVE</td>\n",
       "      <td>-0.037500</td>\n",
       "    </tr>\n",
       "    <tr>\n",
       "      <th>2</th>\n",
       "      <td>A day to remember and to celebrate.\\n2020 Elec...</td>\n",
       "      <td>NEGATIVE</td>\n",
       "      <td>0.000000</td>\n",
       "    </tr>\n",
       "    <tr>\n",
       "      <th>3</th>\n",
       "      <td>If you're a patriot you support the laws of th...</td>\n",
       "      <td>NEGATIVE</td>\n",
       "      <td>0.000000</td>\n",
       "    </tr>\n",
       "    <tr>\n",
       "      <th>4</th>\n",
       "      <td>RT @RealPatriot56: Democrats cheated in New Je...</td>\n",
       "      <td>NEGATIVE</td>\n",
       "      <td>0.136364</td>\n",
       "    </tr>\n",
       "  </tbody>\n",
       "</table>\n",
       "</div>"
      ],
      "text/plain": [
       "                                                Text AWS Sentiment  \\\n",
       "0  RT @mosaitricks: #Biden election fraud\\n11/202...      NEGATIVE   \n",
       "1  @joncoopertweets I would feel better if USA go...      NEGATIVE   \n",
       "2  A day to remember and to celebrate.\\n2020 Elec...      NEGATIVE   \n",
       "3  If you're a patriot you support the laws of th...      NEGATIVE   \n",
       "4  RT @RealPatriot56: Democrats cheated in New Je...      NEGATIVE   \n",
       "\n",
       "   Spacy Sentiment  \n",
       "0         0.000000  \n",
       "1        -0.037500  \n",
       "2         0.000000  \n",
       "3         0.000000  \n",
       "4         0.136364  "
      ]
     },
     "execution_count": 25,
     "metadata": {},
     "output_type": "execute_result"
    }
   ],
   "source": [
    "#Display sentiment discrepancies between two methods\n",
    "\n",
    "df_election_sentiment = pd.DataFrame({\"Text\": tweet_text[:5],\"AWS Sentiment\":aws_sentiment, \"Spacy Sentiment\":spacy_sentiment})\n",
    "df_election_sentiment"
   ]
  }
 ],
 "metadata": {
  "interpreter": {
   "hash": "f89e368b908d1a3af1a9cb902a14ad307df42a403bd95d8c2513650abfe81cff"
  },
  "kernelspec": {
   "display_name": "Python 3.9.1 64-bit",
   "name": "python3"
  },
  "language_info": {
   "codemirror_mode": {
    "name": "ipython",
    "version": 3
   },
   "file_extension": ".py",
   "mimetype": "text/x-python",
   "name": "python",
   "nbconvert_exporter": "python",
   "pygments_lexer": "ipython3",
   "version": "3.9.1"
  },
  "orig_nbformat": 2
 },
 "nbformat": 4,
 "nbformat_minor": 2
}
